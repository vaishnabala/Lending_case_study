{
  "nbformat": 4,
  "nbformat_minor": 0,
  "metadata": {
    "colab": {
      "provenance": []
    },
    "kernelspec": {
      "name": "python3",
      "display_name": "Python 3"
    },
    "language_info": {
      "name": "python"
    }
  },
  "cells": [
    {
      "cell_type": "markdown",
      "source": [
        "Step : 1\n",
        "Checked the dataset Manually once to make sure that the column name makes sense and looked at the Data Dictionary to understand the terminologies.\n",
        "The dataset is in CSV format."
      ],
      "metadata": {
        "id": "sAM56MZ9SBmT"
      }
    },
    {
      "cell_type": "code",
      "execution_count": 110,
      "metadata": {
        "colab": {
          "base_uri": "https://localhost:8080/"
        },
        "id": "VrSXJuHdR0Pu",
        "outputId": "61e50906-7c57-4fb3-b359-6a3d2bacf814"
      },
      "outputs": [
        {
          "output_type": "stream",
          "name": "stderr",
          "text": [
            "<ipython-input-110-cec56c3c7a97>:5: DtypeWarning: Columns (47) have mixed types. Specify dtype option on import or set low_memory=False.\n",
            "  loan = pd.read_csv(\"/content/loan.csv\")    #Loan is a Dataframe variable ,\n"
          ]
        }
      ],
      "source": [
        "import pandas as pd               # Pandas is a package which has ability to handle dataframes\n",
        "import numpy as np               # Numpy has an ability to handle arrays\n",
        "import matplotlib.pyplot as plt    # mathplotlib for plot\n",
        "import seaborn as sns   # box plot\n",
        "loan = pd.read_csv(\"/content/loan.csv\")    #Loan is a Dataframe variable ,\n",
        "                                           #with the help of pandas, csv data is loaded into the variable \"loan\" using read_csv method"
      ]
    },
    {
      "cell_type": "markdown",
      "source": [
        "\n",
        "\n",
        "* Check the dimension of the dataset\n",
        "* Understand how many of them are categorical and how many of them are Numerical\n",
        "\n"
      ],
      "metadata": {
        "id": "sDY8WUmgT2y9"
      }
    },
    {
      "cell_type": "code",
      "source": [
        "loan.shape     # check the dimension of the dataset  - (rows, columns)"
      ],
      "metadata": {
        "colab": {
          "base_uri": "https://localhost:8080/"
        },
        "id": "pdekpDzJVJdJ",
        "outputId": "5fefe090-1dcf-4b09-a782-e636335ffba3"
      },
      "execution_count": 108,
      "outputs": [
        {
          "output_type": "execute_result",
          "data": {
            "text/plain": [
              "(39717, 111)"
            ]
          },
          "metadata": {},
          "execution_count": 108
        }
      ]
    },
    {
      "cell_type": "markdown",
      "source": [
        "The Number of rows are 39717 and columns are 111"
      ],
      "metadata": {
        "id": "qf63RortVT9L"
      }
    },
    {
      "cell_type": "code",
      "source": [
        "print(loan.isna().sum())    # check the sum of na values columnwise"
      ],
      "metadata": {
        "id": "E0xcdoRMauKc"
      },
      "execution_count": null,
      "outputs": []
    },
    {
      "cell_type": "code",
      "source": [
        "loan = loan.loc[:, loan.isin([' ','NULL',0]).mean() < .7]      # retains only the columns which have less than 60% of na value."
      ],
      "metadata": {
        "id": "Mb3HT_uEa3Kf"
      },
      "execution_count": 90,
      "outputs": []
    },
    {
      "cell_type": "code",
      "source": [
        "loan = loan.drop_duplicates()  # Remove duplicates if any  - optional code still good to test if it has duplicates"
      ],
      "metadata": {
        "id": "b7hmyx_Mcins"
      },
      "execution_count": 91,
      "outputs": []
    },
    {
      "cell_type": "code",
      "source": [
        "drop_cols = [c for c\n",
        "             in list(loan)\n",
        "             if loan[c].nunique() <= 1]    # collects the name of columns which has less than 1 unique or distinct values\n",
        "loan = loan.drop(columns=drop_cols)        # drops the collected columns in previous step"
      ],
      "metadata": {
        "id": "sLU6IPxNkcML"
      },
      "execution_count": 93,
      "outputs": []
    },
    {
      "cell_type": "markdown",
      "source": [
        "A column with a same value for all the rows may not contribute to result.\n",
        "So we removed such columns in the above code snippet."
      ],
      "metadata": {
        "id": "pf69TtkRoHFX"
      }
    },
    {
      "cell_type": "code",
      "source": [
        "extra_cols = ['id','member_id','next_pymnt_d','title',\n",
        "'last_pymnt_d',\n",
        "'issue_d',\n",
        "'url',\n",
        "'desc',\n",
        "'zip_code', # Address state code\n",
        "'earliest_cr_line',\n",
        "'last_credit_pull_d','emp_title' ]           # for this analysis, unnecessary column like dates and url, description are considered as irrelevant\n",
        "loan =loan.drop(extra_cols,axis=1)  # all irrelevant columns are removed."
      ],
      "metadata": {
        "id": "Kk1zPLpcl-t_"
      },
      "execution_count": 94,
      "outputs": []
    },
    {
      "cell_type": "markdown",
      "source": [
        "For the simple analysis of to saction  load, date columns may not contribute more. Still we can gain the difference between the dates and duration may be considered as one of factors.\n",
        "But for this analysis, we removed all the date columns and columns provide extra information like url, description.  we tend to remove zip code as we already have address state code."
      ],
      "metadata": {
        "id": "VcTbL_5roXB7"
      }
    },
    {
      "cell_type": "code",
      "source": [
        "print(loan.describe) # Overview of dataset"
      ],
      "metadata": {
        "id": "DyPktIEjdl72"
      },
      "execution_count": null,
      "outputs": []
    },
    {
      "cell_type": "code",
      "source": [
        "print(loan.columns)"
      ],
      "metadata": {
        "colab": {
          "base_uri": "https://localhost:8080/"
        },
        "id": "Wmj0ojddp04O",
        "outputId": "b3164d6c-0e3a-4cf5-aa6c-e0c835b1727e"
      },
      "execution_count": 96,
      "outputs": [
        {
          "output_type": "stream",
          "name": "stdout",
          "text": [
            "Index(['loan_amnt', 'funded_amnt', 'funded_amnt_inv', 'term', 'int_rate',\n",
            "       'installment', 'grade', 'sub_grade', 'emp_length', 'home_ownership',\n",
            "       'annual_inc', 'verification_status', 'loan_status', 'purpose',\n",
            "       'addr_state', 'dti', 'inq_last_6mths', 'mths_since_last_delinq',\n",
            "       'mths_since_last_record', 'open_acc', 'revol_bal', 'revol_util',\n",
            "       'total_acc', 'total_pymnt', 'total_pymnt_inv', 'total_rec_prncp',\n",
            "       'total_rec_int', 'last_pymnt_amnt'],\n",
            "      dtype='object')\n"
          ]
        }
      ]
    },
    {
      "cell_type": "markdown",
      "source": [
        "There are only 28 remaining useful columns for analysis.\n",
        "out of these 28 fields, annual income field has outliers so top and bottom 5% of the values are removed"
      ],
      "metadata": {
        "id": "a3v9TZSgnudD"
      }
    },
    {
      "cell_type": "code",
      "source": [
        "upper_bound = np.percentile(loan['annual_inc'], 95)\n",
        "lower_bound = np.percentile(loan['annual_inc'], 5)\n",
        "\n",
        "# Remove the outliers\n",
        "loan = loan[(loan['annual_inc'] <= upper_bound) & (loan['annual_inc'] >= lower_bound)]\n",
        "loan"
      ],
      "metadata": {
        "id": "04CAd6_2t-qP"
      },
      "execution_count": null,
      "outputs": []
    },
    {
      "cell_type": "code",
      "source": [
        "loan.to_csv('filename.csv') # we can analyse it in excel using this exported file"
      ],
      "metadata": {
        "id": "al7v6FbzteKt"
      },
      "execution_count": 102,
      "outputs": []
    },
    {
      "cell_type": "code",
      "source": [
        "# Store the list of columns\n",
        "columns_to_plot = ['loan_amnt', 'funded_amnt']\n",
        "\n",
        "# Create the figure and two subplots\n",
        "fig, axes = plt.subplots(ncols=len(columns_to_plot ))\n",
        "\n",
        "# Create the boxplot with Seaborn\n",
        "for column, axis in zip(columns_to_plot , axes):\n",
        "        sns.boxplot(data=loan[column], ax=axis)\n",
        "        axis.set_title(column)\n",
        "        # axis.set(xticklabels=[], xticks=[], ylabel=column)\n",
        "\n",
        "# Show the plot\n",
        "plt.tight_layout()\n",
        "plt.show()"
      ],
      "metadata": {
        "id": "9KcFm1C0qYxq"
      },
      "execution_count": null,
      "outputs": []
    },
    {
      "cell_type": "code",
      "source": [
        "plt.scatter(loan['loan_amnt'], loan['funded_amnt'], color='red')\n",
        "\n",
        "# Show the plot\n",
        "plt.show()"
      ],
      "metadata": {
        "id": "OJ9I1krhsprK"
      },
      "execution_count": null,
      "outputs": []
    }
  ]
}